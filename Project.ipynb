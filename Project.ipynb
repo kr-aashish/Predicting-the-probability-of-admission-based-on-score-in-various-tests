{
 "cells": [
  {
   "cell_type": "markdown",
   "metadata": {},
   "source": [
    "<!-- <h2 align=\"center\"> Logistic Regression </h2> -->\n",
    "# Predicting the probability of admission based on score in various tests"
   ]
  },
  {
   "cell_type": "markdown",
   "metadata": {},
   "source": [
    "### Task : Load the Data and Libraries\n",
    "---"
   ]
  },
  {
   "cell_type": "code",
   "execution_count": 240,
   "metadata": {},
   "outputs": [],
   "source": [
    "import numpy as np\n",
    "import matplotlib.pyplot as plt\n",
    "import seaborn as sns\n",
    "import pandas as pd\n",
    "plt.style.use(\"ggplot\")\n",
    "%matplotlib inline"
   ]
  },
  {
   "cell_type": "code",
   "execution_count": 241,
   "metadata": {},
   "outputs": [],
   "source": [
    "from pylab import rcParams\n",
    "rcParams['figure.figsize'] = 12, 8"
   ]
  },
  {
   "cell_type": "code",
   "execution_count": 242,
   "metadata": {},
   "outputs": [
    {
     "data": {
      "text/html": [
       "<div>\n",
       "<style scoped>\n",
       "    .dataframe tbody tr th:only-of-type {\n",
       "        vertical-align: middle;\n",
       "    }\n",
       "\n",
       "    .dataframe tbody tr th {\n",
       "        vertical-align: top;\n",
       "    }\n",
       "\n",
       "    .dataframe thead th {\n",
       "        text-align: right;\n",
       "    }\n",
       "</style>\n",
       "<table border=\"1\" class=\"dataframe\">\n",
       "  <thead>\n",
       "    <tr style=\"text-align: right;\">\n",
       "      <th></th>\n",
       "      <th>DMV_Test_1</th>\n",
       "      <th>DMV_Test_2</th>\n",
       "      <th>Results</th>\n",
       "    </tr>\n",
       "  </thead>\n",
       "  <tbody>\n",
       "    <tr>\n",
       "      <th>0</th>\n",
       "      <td>34.623660</td>\n",
       "      <td>78.024693</td>\n",
       "      <td>0</td>\n",
       "    </tr>\n",
       "    <tr>\n",
       "      <th>1</th>\n",
       "      <td>30.286711</td>\n",
       "      <td>43.894998</td>\n",
       "      <td>0</td>\n",
       "    </tr>\n",
       "    <tr>\n",
       "      <th>2</th>\n",
       "      <td>35.847409</td>\n",
       "      <td>72.902198</td>\n",
       "      <td>0</td>\n",
       "    </tr>\n",
       "    <tr>\n",
       "      <th>3</th>\n",
       "      <td>60.182599</td>\n",
       "      <td>86.308552</td>\n",
       "      <td>1</td>\n",
       "    </tr>\n",
       "    <tr>\n",
       "      <th>4</th>\n",
       "      <td>79.032736</td>\n",
       "      <td>75.344376</td>\n",
       "      <td>1</td>\n",
       "    </tr>\n",
       "  </tbody>\n",
       "</table>\n",
       "</div>"
      ],
      "text/plain": [
       "   DMV_Test_1  DMV_Test_2  Results\n",
       "0   34.623660   78.024693        0\n",
       "1   30.286711   43.894998        0\n",
       "2   35.847409   72.902198        0\n",
       "3   60.182599   86.308552        1\n",
       "4   79.032736   75.344376        1"
      ]
     },
     "execution_count": 242,
     "metadata": {},
     "output_type": "execute_result"
    }
   ],
   "source": [
    "df=pd.read_csv('DMV_Written_Tests.csv')\n",
    "df.head()"
   ]
  },
  {
   "cell_type": "code",
   "execution_count": 243,
   "metadata": {},
   "outputs": [
    {
     "name": "stdout",
     "output_type": "stream",
     "text": [
      "<class 'pandas.core.frame.DataFrame'>\n",
      "RangeIndex: 100 entries, 0 to 99\n",
      "Data columns (total 3 columns):\n",
      " #   Column      Non-Null Count  Dtype  \n",
      "---  ------      --------------  -----  \n",
      " 0   DMV_Test_1  100 non-null    float64\n",
      " 1   DMV_Test_2  100 non-null    float64\n",
      " 2   Results     100 non-null    int64  \n",
      "dtypes: float64(2), int64(1)\n",
      "memory usage: 2.4 KB\n"
     ]
    }
   ],
   "source": [
    "df.info()"
   ]
  },
  {
   "cell_type": "code",
   "execution_count": 244,
   "metadata": {},
   "outputs": [
    {
     "data": {
      "text/html": [
       "<div>\n",
       "<style scoped>\n",
       "    .dataframe tbody tr th:only-of-type {\n",
       "        vertical-align: middle;\n",
       "    }\n",
       "\n",
       "    .dataframe tbody tr th {\n",
       "        vertical-align: top;\n",
       "    }\n",
       "\n",
       "    .dataframe thead th {\n",
       "        text-align: right;\n",
       "    }\n",
       "</style>\n",
       "<table border=\"1\" class=\"dataframe\">\n",
       "  <thead>\n",
       "    <tr style=\"text-align: right;\">\n",
       "      <th></th>\n",
       "      <th>DMV_Test_1</th>\n",
       "      <th>DMV_Test_2</th>\n",
       "    </tr>\n",
       "  </thead>\n",
       "  <tbody>\n",
       "    <tr>\n",
       "      <th>0</th>\n",
       "      <td>34.623660</td>\n",
       "      <td>78.024693</td>\n",
       "    </tr>\n",
       "    <tr>\n",
       "      <th>1</th>\n",
       "      <td>30.286711</td>\n",
       "      <td>43.894998</td>\n",
       "    </tr>\n",
       "    <tr>\n",
       "      <th>2</th>\n",
       "      <td>35.847409</td>\n",
       "      <td>72.902198</td>\n",
       "    </tr>\n",
       "    <tr>\n",
       "      <th>3</th>\n",
       "      <td>60.182599</td>\n",
       "      <td>86.308552</td>\n",
       "    </tr>\n",
       "    <tr>\n",
       "      <th>4</th>\n",
       "      <td>79.032736</td>\n",
       "      <td>75.344376</td>\n",
       "    </tr>\n",
       "    <tr>\n",
       "      <th>...</th>\n",
       "      <td>...</td>\n",
       "      <td>...</td>\n",
       "    </tr>\n",
       "    <tr>\n",
       "      <th>95</th>\n",
       "      <td>83.489163</td>\n",
       "      <td>48.380286</td>\n",
       "    </tr>\n",
       "    <tr>\n",
       "      <th>96</th>\n",
       "      <td>42.261701</td>\n",
       "      <td>87.103851</td>\n",
       "    </tr>\n",
       "    <tr>\n",
       "      <th>97</th>\n",
       "      <td>99.315009</td>\n",
       "      <td>68.775409</td>\n",
       "    </tr>\n",
       "    <tr>\n",
       "      <th>98</th>\n",
       "      <td>55.340018</td>\n",
       "      <td>64.931938</td>\n",
       "    </tr>\n",
       "    <tr>\n",
       "      <th>99</th>\n",
       "      <td>74.775893</td>\n",
       "      <td>89.529813</td>\n",
       "    </tr>\n",
       "  </tbody>\n",
       "</table>\n",
       "<p>100 rows × 2 columns</p>\n",
       "</div>"
      ],
      "text/plain": [
       "    DMV_Test_1  DMV_Test_2\n",
       "0    34.623660   78.024693\n",
       "1    30.286711   43.894998\n",
       "2    35.847409   72.902198\n",
       "3    60.182599   86.308552\n",
       "4    79.032736   75.344376\n",
       "..         ...         ...\n",
       "95   83.489163   48.380286\n",
       "96   42.261701   87.103851\n",
       "97   99.315009   68.775409\n",
       "98   55.340018   64.931938\n",
       "99   74.775893   89.529813\n",
       "\n",
       "[100 rows x 2 columns]"
      ]
     },
     "execution_count": 244,
     "metadata": {},
     "output_type": "execute_result"
    }
   ],
   "source": [
    "sc=df[['DMV_Test_1', 'DMV_Test_2']]\n",
    "sc"
   ]
  },
  {
   "cell_type": "code",
   "execution_count": 245,
   "metadata": {},
   "outputs": [
    {
     "data": {
      "text/plain": [
       "pandas.core.frame.DataFrame"
      ]
     },
     "execution_count": 245,
     "metadata": {},
     "output_type": "execute_result"
    }
   ],
   "source": [
    "type(sc)"
   ]
  },
  {
   "cell_type": "code",
   "execution_count": 246,
   "metadata": {},
   "outputs": [
    {
     "data": {
      "text/plain": [
       "array([[34.62365962, 78.02469282],\n",
       "       [30.28671077, 43.89499752],\n",
       "       [35.84740877, 72.90219803],\n",
       "       [60.18259939, 86.3085521 ],\n",
       "       [79.03273605, 75.34437644],\n",
       "       [45.08327748, 56.31637178],\n",
       "       [61.10666454, 96.51142588],\n",
       "       [75.02474557, 46.55401354],\n",
       "       [76.0987867 , 87.42056972],\n",
       "       [84.43281996, 43.53339331],\n",
       "       [95.86155507, 38.22527806],\n",
       "       [75.01365839, 30.60326323],\n",
       "       [82.30705337, 76.4819633 ],\n",
       "       [69.36458876, 97.71869196],\n",
       "       [39.53833914, 76.03681085],\n",
       "       [53.97105215, 89.20735014],\n",
       "       [69.07014406, 52.74046973],\n",
       "       [67.94685548, 46.67857411],\n",
       "       [70.66150955, 92.92713789],\n",
       "       [76.97878373, 47.57596365],\n",
       "       [67.37202755, 42.83843832],\n",
       "       [89.67677575, 65.79936593],\n",
       "       [50.53478829, 48.85581153],\n",
       "       [34.21206098, 44.2095286 ],\n",
       "       [77.92409145, 68.97235999],\n",
       "       [62.27101367, 69.95445795],\n",
       "       [80.19018075, 44.82162893],\n",
       "       [93.1143888 , 38.80067034],\n",
       "       [61.83020602, 50.25610789],\n",
       "       [38.7858038 , 64.99568096],\n",
       "       [61.37928945, 72.80788731],\n",
       "       [85.40451939, 57.05198398],\n",
       "       [52.10797973, 63.12762377],\n",
       "       [52.04540477, 69.43286012],\n",
       "       [40.23689374, 71.16774802],\n",
       "       [54.63510555, 52.21388588],\n",
       "       [33.91550011, 98.86943574],\n",
       "       [64.17698887, 80.90806059],\n",
       "       [74.78925296, 41.57341523],\n",
       "       [34.18364003, 75.23772034],\n",
       "       [83.90239366, 56.30804622],\n",
       "       [51.54772027, 46.85629026],\n",
       "       [94.44336777, 65.56892161],\n",
       "       [82.36875376, 40.61825516],\n",
       "       [51.04775177, 45.82270146],\n",
       "       [62.22267576, 52.06099195],\n",
       "       [77.19303493, 70.4582    ],\n",
       "       [97.77159928, 86.72782233],\n",
       "       [62.0730638 , 96.76882412],\n",
       "       [91.5649745 , 88.69629255],\n",
       "       [79.94481794, 74.16311935],\n",
       "       [99.27252693, 60.999031  ],\n",
       "       [90.54671411, 43.39060181],\n",
       "       [34.52451385, 60.39634246],\n",
       "       [50.28649612, 49.80453881],\n",
       "       [49.58667722, 59.80895099],\n",
       "       [97.64563396, 68.86157272],\n",
       "       [32.57720017, 95.59854761],\n",
       "       [74.24869137, 69.82457123],\n",
       "       [71.79646206, 78.45356225],\n",
       "       [75.39561147, 85.75993667],\n",
       "       [35.28611282, 47.02051395],\n",
       "       [56.2538175 , 39.26147251],\n",
       "       [30.05882245, 49.59297387],\n",
       "       [44.66826172, 66.45008615],\n",
       "       [66.56089447, 41.09209808],\n",
       "       [40.45755098, 97.53518549],\n",
       "       [49.07256322, 51.88321182],\n",
       "       [80.27957401, 92.11606081],\n",
       "       [66.74671857, 60.99139403],\n",
       "       [32.72283304, 43.30717306],\n",
       "       [64.03932042, 78.03168802],\n",
       "       [72.34649423, 96.22759297],\n",
       "       [60.45788574, 73.0949981 ],\n",
       "       [58.84095622, 75.85844831],\n",
       "       [99.8278578 , 72.36925193],\n",
       "       [47.26426911, 88.475865  ],\n",
       "       [50.4581598 , 75.80985953],\n",
       "       [60.45555629, 42.50840944],\n",
       "       [82.22666158, 42.71987854],\n",
       "       [88.91389642, 69.8037889 ],\n",
       "       [94.83450672, 45.6943068 ],\n",
       "       [67.31925747, 66.58935318],\n",
       "       [57.23870632, 59.51428198],\n",
       "       [80.366756  , 90.9601479 ],\n",
       "       [68.46852179, 85.5943071 ],\n",
       "       [42.07545454, 78.844786  ],\n",
       "       [75.47770201, 90.424539  ],\n",
       "       [78.63542435, 96.64742717],\n",
       "       [52.34800399, 60.76950526],\n",
       "       [94.09433113, 77.15910509],\n",
       "       [90.44855097, 87.50879176],\n",
       "       [55.48216114, 35.57070347],\n",
       "       [74.49269242, 84.84513685],\n",
       "       [89.84580671, 45.35828361],\n",
       "       [83.48916274, 48.3802858 ],\n",
       "       [42.26170081, 87.10385094],\n",
       "       [99.31500881, 68.77540947],\n",
       "       [55.34001756, 64.93193801],\n",
       "       [74.775893  , 89.5298129 ]])"
      ]
     },
     "execution_count": 246,
     "metadata": {},
     "output_type": "execute_result"
    }
   ],
   "source": [
    "scores=df[['DMV_Test_1', 'DMV_Test_2']].values #numpy array for calcualtions\n",
    "scores"
   ]
  },
  {
   "cell_type": "code",
   "execution_count": 247,
   "metadata": {},
   "outputs": [
    {
     "data": {
      "text/plain": [
       "numpy.ndarray"
      ]
     },
     "execution_count": 247,
     "metadata": {},
     "output_type": "execute_result"
    }
   ],
   "source": [
    "type(scores)"
   ]
  },
  {
   "cell_type": "code",
   "execution_count": 248,
   "metadata": {},
   "outputs": [
    {
     "data": {
      "text/plain": [
       "array([[0],\n",
       "       [0],\n",
       "       [0],\n",
       "       [1],\n",
       "       [1],\n",
       "       [0],\n",
       "       [1],\n",
       "       [1],\n",
       "       [1],\n",
       "       [1],\n",
       "       [0],\n",
       "       [0],\n",
       "       [1],\n",
       "       [1],\n",
       "       [0],\n",
       "       [1],\n",
       "       [1],\n",
       "       [0],\n",
       "       [1],\n",
       "       [1],\n",
       "       [0],\n",
       "       [1],\n",
       "       [0],\n",
       "       [0],\n",
       "       [1],\n",
       "       [1],\n",
       "       [1],\n",
       "       [0],\n",
       "       [0],\n",
       "       [0],\n",
       "       [1],\n",
       "       [1],\n",
       "       [0],\n",
       "       [1],\n",
       "       [0],\n",
       "       [0],\n",
       "       [0],\n",
       "       [1],\n",
       "       [0],\n",
       "       [0],\n",
       "       [1],\n",
       "       [0],\n",
       "       [1],\n",
       "       [0],\n",
       "       [0],\n",
       "       [0],\n",
       "       [1],\n",
       "       [1],\n",
       "       [1],\n",
       "       [1],\n",
       "       [1],\n",
       "       [1],\n",
       "       [1],\n",
       "       [0],\n",
       "       [0],\n",
       "       [0],\n",
       "       [1],\n",
       "       [0],\n",
       "       [1],\n",
       "       [1],\n",
       "       [1],\n",
       "       [0],\n",
       "       [0],\n",
       "       [0],\n",
       "       [0],\n",
       "       [0],\n",
       "       [1],\n",
       "       [0],\n",
       "       [1],\n",
       "       [1],\n",
       "       [0],\n",
       "       [1],\n",
       "       [1],\n",
       "       [1],\n",
       "       [1],\n",
       "       [1],\n",
       "       [1],\n",
       "       [1],\n",
       "       [0],\n",
       "       [0],\n",
       "       [1],\n",
       "       [1],\n",
       "       [1],\n",
       "       [1],\n",
       "       [1],\n",
       "       [1],\n",
       "       [0],\n",
       "       [1],\n",
       "       [1],\n",
       "       [0],\n",
       "       [1],\n",
       "       [1],\n",
       "       [0],\n",
       "       [1],\n",
       "       [1],\n",
       "       [1],\n",
       "       [1],\n",
       "       [1],\n",
       "       [1],\n",
       "       [1]], dtype=int64)"
      ]
     },
     "execution_count": 248,
     "metadata": {},
     "output_type": "execute_result"
    }
   ],
   "source": [
    "results=df[['Results']].values\n",
    "results"
   ]
  },
  {
   "cell_type": "markdown",
   "metadata": {},
   "source": [
    "### Task 3: Visualize the Data\n",
    "---"
   ]
  },
  {
   "cell_type": "code",
   "execution_count": 249,
   "metadata": {},
   "outputs": [
    {
     "name": "stdout",
     "output_type": "stream",
     "text": [
      "<class 'pandas.core.frame.DataFrame'>\n",
      "RangeIndex: 100 entries, 0 to 99\n",
      "Data columns (total 3 columns):\n",
      " #   Column      Non-Null Count  Dtype  \n",
      "---  ------      --------------  -----  \n",
      " 0   DMV_Test_1  100 non-null    float64\n",
      " 1   DMV_Test_2  100 non-null    float64\n",
      " 2   Results     100 non-null    int64  \n",
      "dtypes: float64(2), int64(1)\n",
      "memory usage: 2.4 KB\n"
     ]
    }
   ],
   "source": [
    "df.info()"
   ]
  },
  {
   "cell_type": "code",
   "execution_count": 250,
   "metadata": {},
   "outputs": [
    {
     "data": {
      "text/plain": [
       "array([[ True],\n",
       "       [ True],\n",
       "       [ True],\n",
       "       [False],\n",
       "       [False],\n",
       "       [ True],\n",
       "       [False],\n",
       "       [False],\n",
       "       [False],\n",
       "       [False],\n",
       "       [ True],\n",
       "       [ True],\n",
       "       [False],\n",
       "       [False],\n",
       "       [ True],\n",
       "       [False],\n",
       "       [False],\n",
       "       [ True],\n",
       "       [False],\n",
       "       [False],\n",
       "       [ True],\n",
       "       [False],\n",
       "       [ True],\n",
       "       [ True],\n",
       "       [False],\n",
       "       [False],\n",
       "       [False],\n",
       "       [ True],\n",
       "       [ True],\n",
       "       [ True],\n",
       "       [False],\n",
       "       [False],\n",
       "       [ True],\n",
       "       [False],\n",
       "       [ True],\n",
       "       [ True],\n",
       "       [ True],\n",
       "       [False],\n",
       "       [ True],\n",
       "       [ True],\n",
       "       [False],\n",
       "       [ True],\n",
       "       [False],\n",
       "       [ True],\n",
       "       [ True],\n",
       "       [ True],\n",
       "       [False],\n",
       "       [False],\n",
       "       [False],\n",
       "       [False],\n",
       "       [False],\n",
       "       [False],\n",
       "       [False],\n",
       "       [ True],\n",
       "       [ True],\n",
       "       [ True],\n",
       "       [False],\n",
       "       [ True],\n",
       "       [False],\n",
       "       [False],\n",
       "       [False],\n",
       "       [ True],\n",
       "       [ True],\n",
       "       [ True],\n",
       "       [ True],\n",
       "       [ True],\n",
       "       [False],\n",
       "       [ True],\n",
       "       [False],\n",
       "       [False],\n",
       "       [ True],\n",
       "       [False],\n",
       "       [False],\n",
       "       [False],\n",
       "       [False],\n",
       "       [False],\n",
       "       [False],\n",
       "       [False],\n",
       "       [ True],\n",
       "       [ True],\n",
       "       [False],\n",
       "       [False],\n",
       "       [False],\n",
       "       [False],\n",
       "       [False],\n",
       "       [False],\n",
       "       [ True],\n",
       "       [False],\n",
       "       [False],\n",
       "       [ True],\n",
       "       [False],\n",
       "       [False],\n",
       "       [ True],\n",
       "       [False],\n",
       "       [False],\n",
       "       [False],\n",
       "       [False],\n",
       "       [False],\n",
       "       [False],\n",
       "       [False]])"
      ]
     },
     "execution_count": 250,
     "metadata": {},
     "output_type": "execute_result"
    }
   ],
   "source": [
    "(results==0)"
   ]
  },
  {
   "cell_type": "code",
   "execution_count": 251,
   "metadata": {},
   "outputs": [
    {
     "data": {
      "text/plain": [
       "array([[False],\n",
       "       [False],\n",
       "       [False],\n",
       "       [ True],\n",
       "       [ True],\n",
       "       [False],\n",
       "       [ True],\n",
       "       [ True],\n",
       "       [ True],\n",
       "       [ True],\n",
       "       [False],\n",
       "       [False],\n",
       "       [ True],\n",
       "       [ True],\n",
       "       [False],\n",
       "       [ True],\n",
       "       [ True],\n",
       "       [False],\n",
       "       [ True],\n",
       "       [ True],\n",
       "       [False],\n",
       "       [ True],\n",
       "       [False],\n",
       "       [False],\n",
       "       [ True],\n",
       "       [ True],\n",
       "       [ True],\n",
       "       [False],\n",
       "       [False],\n",
       "       [False],\n",
       "       [ True],\n",
       "       [ True],\n",
       "       [False],\n",
       "       [ True],\n",
       "       [False],\n",
       "       [False],\n",
       "       [False],\n",
       "       [ True],\n",
       "       [False],\n",
       "       [False],\n",
       "       [ True],\n",
       "       [False],\n",
       "       [ True],\n",
       "       [False],\n",
       "       [False],\n",
       "       [False],\n",
       "       [ True],\n",
       "       [ True],\n",
       "       [ True],\n",
       "       [ True],\n",
       "       [ True],\n",
       "       [ True],\n",
       "       [ True],\n",
       "       [False],\n",
       "       [False],\n",
       "       [False],\n",
       "       [ True],\n",
       "       [False],\n",
       "       [ True],\n",
       "       [ True],\n",
       "       [ True],\n",
       "       [False],\n",
       "       [False],\n",
       "       [False],\n",
       "       [False],\n",
       "       [False],\n",
       "       [ True],\n",
       "       [False],\n",
       "       [ True],\n",
       "       [ True],\n",
       "       [False],\n",
       "       [ True],\n",
       "       [ True],\n",
       "       [ True],\n",
       "       [ True],\n",
       "       [ True],\n",
       "       [ True],\n",
       "       [ True],\n",
       "       [False],\n",
       "       [False],\n",
       "       [ True],\n",
       "       [ True],\n",
       "       [ True],\n",
       "       [ True],\n",
       "       [ True],\n",
       "       [ True],\n",
       "       [False],\n",
       "       [ True],\n",
       "       [ True],\n",
       "       [False],\n",
       "       [ True],\n",
       "       [ True],\n",
       "       [False],\n",
       "       [ True],\n",
       "       [ True],\n",
       "       [ True],\n",
       "       [ True],\n",
       "       [ True],\n",
       "       [ True],\n",
       "       [ True]])"
      ]
     },
     "execution_count": 251,
     "metadata": {},
     "output_type": "execute_result"
    }
   ],
   "source": [
    "passed=(results==1).reshape(100,1)\n",
    "passed"
   ]
  },
  {
   "cell_type": "code",
   "execution_count": 252,
   "metadata": {},
   "outputs": [],
   "source": [
    "failed=(results==0).reshape(100,1)"
   ]
  },
  {
   "cell_type": "code",
   "execution_count": 253,
   "metadata": {},
   "outputs": [
    {
     "data": {
      "text/plain": [
       "array([[34.62365962, 78.02469282],\n",
       "       [30.28671077, 43.89499752],\n",
       "       [35.84740877, 72.90219803],\n",
       "       [60.18259939, 86.3085521 ],\n",
       "       [79.03273605, 75.34437644],\n",
       "       [45.08327748, 56.31637178],\n",
       "       [61.10666454, 96.51142588],\n",
       "       [75.02474557, 46.55401354],\n",
       "       [76.0987867 , 87.42056972],\n",
       "       [84.43281996, 43.53339331],\n",
       "       [95.86155507, 38.22527806],\n",
       "       [75.01365839, 30.60326323],\n",
       "       [82.30705337, 76.4819633 ],\n",
       "       [69.36458876, 97.71869196],\n",
       "       [39.53833914, 76.03681085],\n",
       "       [53.97105215, 89.20735014],\n",
       "       [69.07014406, 52.74046973],\n",
       "       [67.94685548, 46.67857411],\n",
       "       [70.66150955, 92.92713789],\n",
       "       [76.97878373, 47.57596365],\n",
       "       [67.37202755, 42.83843832],\n",
       "       [89.67677575, 65.79936593],\n",
       "       [50.53478829, 48.85581153],\n",
       "       [34.21206098, 44.2095286 ],\n",
       "       [77.92409145, 68.97235999],\n",
       "       [62.27101367, 69.95445795],\n",
       "       [80.19018075, 44.82162893],\n",
       "       [93.1143888 , 38.80067034],\n",
       "       [61.83020602, 50.25610789],\n",
       "       [38.7858038 , 64.99568096],\n",
       "       [61.37928945, 72.80788731],\n",
       "       [85.40451939, 57.05198398],\n",
       "       [52.10797973, 63.12762377],\n",
       "       [52.04540477, 69.43286012],\n",
       "       [40.23689374, 71.16774802],\n",
       "       [54.63510555, 52.21388588],\n",
       "       [33.91550011, 98.86943574],\n",
       "       [64.17698887, 80.90806059],\n",
       "       [74.78925296, 41.57341523],\n",
       "       [34.18364003, 75.23772034],\n",
       "       [83.90239366, 56.30804622],\n",
       "       [51.54772027, 46.85629026],\n",
       "       [94.44336777, 65.56892161],\n",
       "       [82.36875376, 40.61825516],\n",
       "       [51.04775177, 45.82270146],\n",
       "       [62.22267576, 52.06099195],\n",
       "       [77.19303493, 70.4582    ],\n",
       "       [97.77159928, 86.72782233],\n",
       "       [62.0730638 , 96.76882412],\n",
       "       [91.5649745 , 88.69629255],\n",
       "       [79.94481794, 74.16311935],\n",
       "       [99.27252693, 60.999031  ],\n",
       "       [90.54671411, 43.39060181],\n",
       "       [34.52451385, 60.39634246],\n",
       "       [50.28649612, 49.80453881],\n",
       "       [49.58667722, 59.80895099],\n",
       "       [97.64563396, 68.86157272],\n",
       "       [32.57720017, 95.59854761],\n",
       "       [74.24869137, 69.82457123],\n",
       "       [71.79646206, 78.45356225],\n",
       "       [75.39561147, 85.75993667],\n",
       "       [35.28611282, 47.02051395],\n",
       "       [56.2538175 , 39.26147251],\n",
       "       [30.05882245, 49.59297387],\n",
       "       [44.66826172, 66.45008615],\n",
       "       [66.56089447, 41.09209808],\n",
       "       [40.45755098, 97.53518549],\n",
       "       [49.07256322, 51.88321182],\n",
       "       [80.27957401, 92.11606081],\n",
       "       [66.74671857, 60.99139403],\n",
       "       [32.72283304, 43.30717306],\n",
       "       [64.03932042, 78.03168802],\n",
       "       [72.34649423, 96.22759297],\n",
       "       [60.45788574, 73.0949981 ],\n",
       "       [58.84095622, 75.85844831],\n",
       "       [99.8278578 , 72.36925193],\n",
       "       [47.26426911, 88.475865  ],\n",
       "       [50.4581598 , 75.80985953],\n",
       "       [60.45555629, 42.50840944],\n",
       "       [82.22666158, 42.71987854],\n",
       "       [88.91389642, 69.8037889 ],\n",
       "       [94.83450672, 45.6943068 ],\n",
       "       [67.31925747, 66.58935318],\n",
       "       [57.23870632, 59.51428198],\n",
       "       [80.366756  , 90.9601479 ],\n",
       "       [68.46852179, 85.5943071 ],\n",
       "       [42.07545454, 78.844786  ],\n",
       "       [75.47770201, 90.424539  ],\n",
       "       [78.63542435, 96.64742717],\n",
       "       [52.34800399, 60.76950526],\n",
       "       [94.09433113, 77.15910509],\n",
       "       [90.44855097, 87.50879176],\n",
       "       [55.48216114, 35.57070347],\n",
       "       [74.49269242, 84.84513685],\n",
       "       [89.84580671, 45.35828361],\n",
       "       [83.48916274, 48.3802858 ],\n",
       "       [42.26170081, 87.10385094],\n",
       "       [99.31500881, 68.77540947],\n",
       "       [55.34001756, 64.93193801],\n",
       "       [74.775893  , 89.5298129 ]])"
      ]
     },
     "execution_count": 253,
     "metadata": {},
     "output_type": "execute_result"
    }
   ],
   "source": [
    "scores"
   ]
  },
  {
   "cell_type": "code",
   "execution_count": 254,
   "metadata": {},
   "outputs": [
    {
     "data": {
      "text/plain": [
       "array([False, False, False,  True,  True, False,  True,  True,  True,\n",
       "        True, False, False,  True,  True, False,  True,  True, False,\n",
       "        True,  True, False,  True, False, False,  True,  True,  True,\n",
       "       False, False, False,  True,  True, False,  True, False, False,\n",
       "       False,  True, False, False,  True, False,  True, False, False,\n",
       "       False,  True,  True,  True,  True,  True,  True,  True, False,\n",
       "       False, False,  True, False,  True,  True,  True, False, False,\n",
       "       False, False, False,  True, False,  True,  True, False,  True,\n",
       "        True,  True,  True,  True,  True,  True, False, False,  True,\n",
       "        True,  True,  True,  True,  True, False,  True,  True, False,\n",
       "        True,  True, False,  True,  True,  True,  True,  True,  True,\n",
       "        True])"
      ]
     },
     "execution_count": 254,
     "metadata": {},
     "output_type": "execute_result"
    }
   ],
   "source": [
    "passed[:,0]"
   ]
  },
  {
   "cell_type": "code",
   "execution_count": 255,
   "metadata": {},
   "outputs": [
    {
     "data": {
      "image/png": "[encoded data removed]",
      "text/plain": [
       "<Figure size 864x576 with 1 Axes>"
      ]
     },
     "metadata": {
      "needs_background": "light"
     },
     "output_type": "display_data"
    }
   ],
   "source": [
    "ax=sns.scatterplot(x=scores[passed[:,0],0], #x for test1 and y for test2\n",
    "                  y=scores[passed[:,0],1], \n",
    "                  s=60,\n",
    "                  color='green') \n",
    "ax=sns.scatterplot(x=scores[failed[:,0],0],\n",
    "                   y=scores[failed[:,0],1], s=85, marker=\"^\") \n",
    "ax.set(xlabel='Test 1 scoress', ylabel='Test 2 scoress')\n",
    "ax.legend(['Passed','Failed'])\n",
    "plt.show()"
   ]
  },
  {
   "cell_type": "markdown",
   "metadata": {},
   "source": [
    "### Task 4: Define the Logistic Sigmoid Function $\\sigma(z)$\n",
    "---\n",
    "\n",
    "$$ \\sigma(z) = \\frac{1}{1+e^{-z}}$$"
   ]
  },
  {
   "cell_type": "code",
   "execution_count": 256,
   "metadata": {},
   "outputs": [],
   "source": [
    "def sigmoid(x):\n",
    "    return 1/(1+np.exp(-x))"
   ]
  },
  {
   "cell_type": "code",
   "execution_count": 257,
   "metadata": {},
   "outputs": [
    {
     "data": {
      "text/plain": [
       "0.5"
      ]
     },
     "execution_count": 257,
     "metadata": {},
     "output_type": "execute_result"
    }
   ],
   "source": [
    "sigmoid(0)"
   ]
  },
  {
   "cell_type": "markdown",
   "metadata": {},
   "source": [
    "### Task 5: Compute the Cost Function $J(\\theta)$ and Gradient\n",
    "---"
   ]
  },
  {
   "cell_type": "markdown",
   "metadata": {},
   "source": [
    "The objective of logistic regression is to minimize the cost function\n",
    "\n",
    "$$J(\\theta) = -\\frac{1}{m} \\sum_{i=1}^{m} [ y^{(i)}log(h_{\\theta}(x^{(i)})) + (1 - y^{(i)})log(1 - (h_{\\theta}(x^{(i)}))]$$\n",
    "\n",
    "where the gradient of the cost function is given by\n",
    "\n",
    "$$ \\frac{\\partial J(\\theta)}{\\partial \\theta_j} = \\frac{1}{m} \\sum_{i=1}^{m} (h_{\\theta}(x^{(i)}) - y^{(i)})x_j^{(i)}$$"
   ]
  },
  {
   "cell_type": "code",
   "execution_count": 258,
   "metadata": {},
   "outputs": [
    {
     "data": {
      "text/html": [
       "<div>\n",
       "<style scoped>\n",
       "    .dataframe tbody tr th:only-of-type {\n",
       "        vertical-align: middle;\n",
       "    }\n",
       "\n",
       "    .dataframe tbody tr th {\n",
       "        vertical-align: top;\n",
       "    }\n",
       "\n",
       "    .dataframe thead th {\n",
       "        text-align: right;\n",
       "    }\n",
       "</style>\n",
       "<table border=\"1\" class=\"dataframe\">\n",
       "  <thead>\n",
       "    <tr style=\"text-align: right;\">\n",
       "      <th></th>\n",
       "      <th>DMV_Test_1</th>\n",
       "      <th>DMV_Test_2</th>\n",
       "      <th>Results</th>\n",
       "    </tr>\n",
       "  </thead>\n",
       "  <tbody>\n",
       "    <tr>\n",
       "      <th>0</th>\n",
       "      <td>34.623660</td>\n",
       "      <td>78.024693</td>\n",
       "      <td>0</td>\n",
       "    </tr>\n",
       "    <tr>\n",
       "      <th>1</th>\n",
       "      <td>30.286711</td>\n",
       "      <td>43.894998</td>\n",
       "      <td>0</td>\n",
       "    </tr>\n",
       "    <tr>\n",
       "      <th>2</th>\n",
       "      <td>35.847409</td>\n",
       "      <td>72.902198</td>\n",
       "      <td>0</td>\n",
       "    </tr>\n",
       "    <tr>\n",
       "      <th>3</th>\n",
       "      <td>60.182599</td>\n",
       "      <td>86.308552</td>\n",
       "      <td>1</td>\n",
       "    </tr>\n",
       "    <tr>\n",
       "      <th>4</th>\n",
       "      <td>79.032736</td>\n",
       "      <td>75.344376</td>\n",
       "      <td>1</td>\n",
       "    </tr>\n",
       "    <tr>\n",
       "      <th>...</th>\n",
       "      <td>...</td>\n",
       "      <td>...</td>\n",
       "      <td>...</td>\n",
       "    </tr>\n",
       "    <tr>\n",
       "      <th>95</th>\n",
       "      <td>83.489163</td>\n",
       "      <td>48.380286</td>\n",
       "      <td>1</td>\n",
       "    </tr>\n",
       "    <tr>\n",
       "      <th>96</th>\n",
       "      <td>42.261701</td>\n",
       "      <td>87.103851</td>\n",
       "      <td>1</td>\n",
       "    </tr>\n",
       "    <tr>\n",
       "      <th>97</th>\n",
       "      <td>99.315009</td>\n",
       "      <td>68.775409</td>\n",
       "      <td>1</td>\n",
       "    </tr>\n",
       "    <tr>\n",
       "      <th>98</th>\n",
       "      <td>55.340018</td>\n",
       "      <td>64.931938</td>\n",
       "      <td>1</td>\n",
       "    </tr>\n",
       "    <tr>\n",
       "      <th>99</th>\n",
       "      <td>74.775893</td>\n",
       "      <td>89.529813</td>\n",
       "      <td>1</td>\n",
       "    </tr>\n",
       "  </tbody>\n",
       "</table>\n",
       "<p>100 rows × 3 columns</p>\n",
       "</div>"
      ],
      "text/plain": [
       "    DMV_Test_1  DMV_Test_2  Results\n",
       "0    34.623660   78.024693        0\n",
       "1    30.286711   43.894998        0\n",
       "2    35.847409   72.902198        0\n",
       "3    60.182599   86.308552        1\n",
       "4    79.032736   75.344376        1\n",
       "..         ...         ...      ...\n",
       "95   83.489163   48.380286        1\n",
       "96   42.261701   87.103851        1\n",
       "97   99.315009   68.775409        1\n",
       "98   55.340018   64.931938        1\n",
       "99   74.775893   89.529813        1\n",
       "\n",
       "[100 rows x 3 columns]"
      ]
     },
     "execution_count": 258,
     "metadata": {},
     "output_type": "execute_result"
    }
   ],
   "source": [
    "df"
   ]
  },
  {
   "cell_type": "code",
   "execution_count": 259,
   "metadata": {},
   "outputs": [],
   "source": [
    "def compute_cost(theta,x,y):\n",
    "    m=len(y) #y is m*1 \n",
    "    y_hat=sigmoid(np.dot(x, theta)) #matrix multiplication -- X is m*3 & theta is 3*1\n",
    "    error=y*np.log(y_hat)+(1-y)*np.log(1-y_hat)\n",
    "    cost=-1/m*sum(error)\n",
    "    \n",
    "    gradient=1/m*(np.dot(x.T,(y_hat-y))) #x.T is 3*m and y is m*1  #gradient is for weight update\n",
    "    \n",
    "    return cost, gradient"
   ]
  },
  {
   "cell_type": "markdown",
   "metadata": {},
   "source": [
    " "
   ]
  },
  {
   "cell_type": "markdown",
   "metadata": {},
   "source": [
    "### Task 6: Cost and Gradient at Initialization\n",
    "---"
   ]
  },
  {
   "cell_type": "code",
   "execution_count": 260,
   "metadata": {},
   "outputs": [
    {
     "data": {
      "text/plain": [
       "array([65.64427406, 66.22199809])"
      ]
     },
     "execution_count": 260,
     "metadata": {},
     "output_type": "execute_result"
    }
   ],
   "source": [
    "#Data normalisation\n",
    "mean_scores=np.mean(scores, axis=0) #mean score for each test\n",
    "mean_scores"
   ]
  },
  {
   "cell_type": "code",
   "execution_count": 261,
   "metadata": {},
   "outputs": [
    {
     "data": {
      "text/plain": [
       "array([[-1.60224763,  0.63834112],\n",
       "       [-1.82625564, -1.2075414 ],\n",
       "       [-1.53903969,  0.3612943 ],\n",
       "       [-0.28210129,  1.0863683 ],\n",
       "       [ 0.69152826,  0.49337794],\n",
       "       [-1.06199728, -0.5357394 ],\n",
       "       [-0.23437234,  1.63818413],\n",
       "       [ 0.4845113 , -1.06373024],\n",
       "       [ 0.53998666,  1.14651105],\n",
       "       [ 0.97044832, -1.22709853],\n",
       "       [ 1.56075461, -1.51418452],\n",
       "       [ 0.48393864, -1.92641626],\n",
       "       [ 0.86065022,  0.55490359],\n",
       "       [ 0.1921582 ,  1.70347834],\n",
       "       [-1.34839922,  0.53082781],\n",
       "       [-0.60293429,  1.24314792],\n",
       "       [ 0.17694982, -0.72913975],\n",
       "       [ 0.11893077, -1.05699346],\n",
       "       [ 0.25914553,  1.44433023],\n",
       "       [ 0.58543944, -1.00845873],\n",
       "       [ 0.0892403 , -1.26468472],\n",
       "       [ 1.2413042 , -0.02285779],\n",
       "       [-0.78042096, -0.93923898],\n",
       "       [-1.62350714, -1.19053019],\n",
       "       [ 0.63426559,  0.14875155],\n",
       "       [-0.17423248,  0.20186768],\n",
       "       [ 0.75131151, -1.15742514],\n",
       "       [ 1.41886056, -1.4830648 ],\n",
       "       [-0.19700066, -0.86350486],\n",
       "       [-1.38726847, -0.06632457],\n",
       "       [-0.22029098,  0.35619356],\n",
       "       [ 1.02063763, -0.49595429],\n",
       "       [-0.69916396, -0.16735724],\n",
       "       [-0.70239602,  0.1736574 ],\n",
       "       [-1.31231814,  0.26748769],\n",
       "       [-0.56863523, -0.7576197 ],\n",
       "       [-1.63882482,  1.76571557],\n",
       "       [-0.07578684,  0.7942862 ],\n",
       "       [ 0.47234786, -1.33310268],\n",
       "       [-1.62497511,  0.48760951],\n",
       "       [ 0.94305124, -0.53618968],\n",
       "       [-0.72810195, -1.0473818 ],\n",
       "       [ 1.48750373, -0.03532122],\n",
       "       [ 0.86383711, -1.38476189],\n",
       "       [-0.75392586, -1.10328278],\n",
       "       [-0.17672918, -0.76588887],\n",
       "       [ 0.59650575,  0.22911224],\n",
       "       [ 1.65941042,  1.10904426],\n",
       "       [-0.1844568 ,  1.65210535],\n",
       "       [ 1.33883167,  1.2155077 ],\n",
       "       [ 0.73863826,  0.42949041],\n",
       "       [ 1.73693492, -0.2824808 ],\n",
       "       [ 1.28623744, -1.23482132],\n",
       "       [-1.60736862, -0.31507682],\n",
       "       [-0.79324552, -0.88792768],\n",
       "       [-0.82939191, -0.34684551],\n",
       "       [ 1.65290418,  0.14275969],\n",
       "       [-1.70794943,  1.5888117 ],\n",
       "       [ 0.44442728,  0.19484284],\n",
       "       [ 0.31776703,  0.66153625],\n",
       "       [ 0.50366692,  1.05669679],\n",
       "       [-1.56803122, -1.03849986],\n",
       "       [-0.48502704, -1.45814261],\n",
       "       [-1.83802631, -0.89937003],\n",
       "       [-1.08343328,  0.012336  ],\n",
       "       [ 0.04734442, -1.35913441],\n",
       "       [-1.30092096,  1.69355351],\n",
       "       [-0.85594644, -0.77550399],\n",
       "       [ 0.75592876,  1.40046365],\n",
       "       [ 0.05694243, -0.28289384],\n",
       "       [-1.70042734, -1.23933351],\n",
       "       [-0.08289756,  0.63871945],\n",
       "       [ 0.34617678,  1.62283321],\n",
       "       [-0.26788246,  0.37172177],\n",
       "       [-0.35139858,  0.52118118],\n",
       "       [ 1.76561835,  0.33247025],\n",
       "       [-0.94934675,  1.20358601],\n",
       "       [-0.78437891,  0.51855329],\n",
       "       [-0.26800277, -1.28253412],\n",
       "       [ 0.8564979 , -1.27109695],\n",
       "       [ 1.20190067,  0.19371884],\n",
       "       [ 1.50770647, -1.11022692],\n",
       "       [ 0.08651467,  0.01986816],\n",
       "       [-0.43415649, -0.36278249],\n",
       "       [ 0.76043181,  1.33794685],\n",
       "       [ 0.14587539,  1.04773882],\n",
       "       [-1.21735452,  0.68269533],\n",
       "       [ 0.50790698,  1.30897879],\n",
       "       [ 0.67100669,  1.64553968],\n",
       "       [-0.68676645, -0.29489455],\n",
       "       [ 1.46947562,  0.59152637],\n",
       "       [ 1.28116721,  1.15128248],\n",
       "       [-0.52488391, -1.65775547],\n",
       "       [ 0.45703019,  1.00722043],\n",
       "       [ 1.25003483, -1.12840052],\n",
       "       [ 0.92170742, -0.96495748],\n",
       "       [-1.2077347 ,  1.12938152],\n",
       "       [ 1.73912916,  0.13809961],\n",
       "       [-0.53222578, -0.06977207],\n",
       "       [ 0.4716578 ,  1.26058811]])"
      ]
     },
     "execution_count": 261,
     "metadata": {},
     "output_type": "execute_result"
    }
   ],
   "source": [
    "std_scores=np.std(scores, axis=0)\n",
    "scores=(scores-mean_scores)/std_scores\n",
    "scores"
   ]
  },
  {
   "cell_type": "code",
   "execution_count": 262,
   "metadata": {},
   "outputs": [
    {
     "data": {
      "text/plain": [
       "(100, 2)"
      ]
     },
     "execution_count": 262,
     "metadata": {},
     "output_type": "execute_result"
    }
   ],
   "source": [
    "scores.shape"
   ]
  },
  {
   "cell_type": "code",
   "execution_count": 263,
   "metadata": {},
   "outputs": [],
   "source": [
    "rows=scores.shape[0]#gives number of rows and columns\n",
    "cols=scores.shape[1]"
   ]
  },
  {
   "cell_type": "code",
   "execution_count": 264,
   "metadata": {},
   "outputs": [
    {
     "data": {
      "text/plain": [
       "<bound method DataFrame.info of     DMV_Test_1  DMV_Test_2  Results\n",
       "0    34.623660   78.024693        0\n",
       "1    30.286711   43.894998        0\n",
       "2    35.847409   72.902198        0\n",
       "3    60.182599   86.308552        1\n",
       "4    79.032736   75.344376        1\n",
       "..         ...         ...      ...\n",
       "95   83.489163   48.380286        1\n",
       "96   42.261701   87.103851        1\n",
       "97   99.315009   68.775409        1\n",
       "98   55.340018   64.931938        1\n",
       "99   74.775893   89.529813        1\n",
       "\n",
       "[100 rows x 3 columns]>"
      ]
     },
     "execution_count": 264,
     "metadata": {},
     "output_type": "execute_result"
    }
   ],
   "source": [
    "df.info"
   ]
  },
  {
   "cell_type": "code",
   "execution_count": 265,
   "metadata": {},
   "outputs": [
    {
     "data": {
      "text/plain": [
       "array([[ 1.        , -1.60224763,  0.63834112],\n",
       "       [ 1.        , -1.82625564, -1.2075414 ],\n",
       "       [ 1.        , -1.53903969,  0.3612943 ],\n",
       "       [ 1.        , -0.28210129,  1.0863683 ],\n",
       "       [ 1.        ,  0.69152826,  0.49337794],\n",
       "       [ 1.        , -1.06199728, -0.5357394 ],\n",
       "       [ 1.        , -0.23437234,  1.63818413],\n",
       "       [ 1.        ,  0.4845113 , -1.06373024],\n",
       "       [ 1.        ,  0.53998666,  1.14651105],\n",
       "       [ 1.        ,  0.97044832, -1.22709853],\n",
       "       [ 1.        ,  1.56075461, -1.51418452],\n",
       "       [ 1.        ,  0.48393864, -1.92641626],\n",
       "       [ 1.        ,  0.86065022,  0.55490359],\n",
       "       [ 1.        ,  0.1921582 ,  1.70347834],\n",
       "       [ 1.        , -1.34839922,  0.53082781],\n",
       "       [ 1.        , -0.60293429,  1.24314792],\n",
       "       [ 1.        ,  0.17694982, -0.72913975],\n",
       "       [ 1.        ,  0.11893077, -1.05699346],\n",
       "       [ 1.        ,  0.25914553,  1.44433023],\n",
       "       [ 1.        ,  0.58543944, -1.00845873],\n",
       "       [ 1.        ,  0.0892403 , -1.26468472],\n",
       "       [ 1.        ,  1.2413042 , -0.02285779],\n",
       "       [ 1.        , -0.78042096, -0.93923898],\n",
       "       [ 1.        , -1.62350714, -1.19053019],\n",
       "       [ 1.        ,  0.63426559,  0.14875155],\n",
       "       [ 1.        , -0.17423248,  0.20186768],\n",
       "       [ 1.        ,  0.75131151, -1.15742514],\n",
       "       [ 1.        ,  1.41886056, -1.4830648 ],\n",
       "       [ 1.        , -0.19700066, -0.86350486],\n",
       "       [ 1.        , -1.38726847, -0.06632457],\n",
       "       [ 1.        , -0.22029098,  0.35619356],\n",
       "       [ 1.        ,  1.02063763, -0.49595429],\n",
       "       [ 1.        , -0.69916396, -0.16735724],\n",
       "       [ 1.        , -0.70239602,  0.1736574 ],\n",
       "       [ 1.        , -1.31231814,  0.26748769],\n",
       "       [ 1.        , -0.56863523, -0.7576197 ],\n",
       "       [ 1.        , -1.63882482,  1.76571557],\n",
       "       [ 1.        , -0.07578684,  0.7942862 ],\n",
       "       [ 1.        ,  0.47234786, -1.33310268],\n",
       "       [ 1.        , -1.62497511,  0.48760951],\n",
       "       [ 1.        ,  0.94305124, -0.53618968],\n",
       "       [ 1.        , -0.72810195, -1.0473818 ],\n",
       "       [ 1.        ,  1.48750373, -0.03532122],\n",
       "       [ 1.        ,  0.86383711, -1.38476189],\n",
       "       [ 1.        , -0.75392586, -1.10328278],\n",
       "       [ 1.        , -0.17672918, -0.76588887],\n",
       "       [ 1.        ,  0.59650575,  0.22911224],\n",
       "       [ 1.        ,  1.65941042,  1.10904426],\n",
       "       [ 1.        , -0.1844568 ,  1.65210535],\n",
       "       [ 1.        ,  1.33883167,  1.2155077 ],\n",
       "       [ 1.        ,  0.73863826,  0.42949041],\n",
       "       [ 1.        ,  1.73693492, -0.2824808 ],\n",
       "       [ 1.        ,  1.28623744, -1.23482132],\n",
       "       [ 1.        , -1.60736862, -0.31507682],\n",
       "       [ 1.        , -0.79324552, -0.88792768],\n",
       "       [ 1.        , -0.82939191, -0.34684551],\n",
       "       [ 1.        ,  1.65290418,  0.14275969],\n",
       "       [ 1.        , -1.70794943,  1.5888117 ],\n",
       "       [ 1.        ,  0.44442728,  0.19484284],\n",
       "       [ 1.        ,  0.31776703,  0.66153625],\n",
       "       [ 1.        ,  0.50366692,  1.05669679],\n",
       "       [ 1.        , -1.56803122, -1.03849986],\n",
       "       [ 1.        , -0.48502704, -1.45814261],\n",
       "       [ 1.        , -1.83802631, -0.89937003],\n",
       "       [ 1.        , -1.08343328,  0.012336  ],\n",
       "       [ 1.        ,  0.04734442, -1.35913441],\n",
       "       [ 1.        , -1.30092096,  1.69355351],\n",
       "       [ 1.        , -0.85594644, -0.77550399],\n",
       "       [ 1.        ,  0.75592876,  1.40046365],\n",
       "       [ 1.        ,  0.05694243, -0.28289384],\n",
       "       [ 1.        , -1.70042734, -1.23933351],\n",
       "       [ 1.        , -0.08289756,  0.63871945],\n",
       "       [ 1.        ,  0.34617678,  1.62283321],\n",
       "       [ 1.        , -0.26788246,  0.37172177],\n",
       "       [ 1.        , -0.35139858,  0.52118118],\n",
       "       [ 1.        ,  1.76561835,  0.33247025],\n",
       "       [ 1.        , -0.94934675,  1.20358601],\n",
       "       [ 1.        , -0.78437891,  0.51855329],\n",
       "       [ 1.        , -0.26800277, -1.28253412],\n",
       "       [ 1.        ,  0.8564979 , -1.27109695],\n",
       "       [ 1.        ,  1.20190067,  0.19371884],\n",
       "       [ 1.        ,  1.50770647, -1.11022692],\n",
       "       [ 1.        ,  0.08651467,  0.01986816],\n",
       "       [ 1.        , -0.43415649, -0.36278249],\n",
       "       [ 1.        ,  0.76043181,  1.33794685],\n",
       "       [ 1.        ,  0.14587539,  1.04773882],\n",
       "       [ 1.        , -1.21735452,  0.68269533],\n",
       "       [ 1.        ,  0.50790698,  1.30897879],\n",
       "       [ 1.        ,  0.67100669,  1.64553968],\n",
       "       [ 1.        , -0.68676645, -0.29489455],\n",
       "       [ 1.        ,  1.46947562,  0.59152637],\n",
       "       [ 1.        ,  1.28116721,  1.15128248],\n",
       "       [ 1.        , -0.52488391, -1.65775547],\n",
       "       [ 1.        ,  0.45703019,  1.00722043],\n",
       "       [ 1.        ,  1.25003483, -1.12840052],\n",
       "       [ 1.        ,  0.92170742, -0.96495748],\n",
       "       [ 1.        , -1.2077347 ,  1.12938152],\n",
       "       [ 1.        ,  1.73912916,  0.13809961],\n",
       "       [ 1.        , -0.53222578, -0.06977207],\n",
       "       [ 1.        ,  0.4716578 ,  1.26058811]])"
      ]
     },
     "execution_count": 265,
     "metadata": {},
     "output_type": "execute_result"
    }
   ],
   "source": [
    "X=np.append(np.ones((rows,1)), scores, axis=1) #one introced for bias multiplication in matrix\n",
    "X"
   ]
  },
  {
   "cell_type": "code",
   "execution_count": 266,
   "metadata": {},
   "outputs": [
    {
     "data": {
      "text/plain": [
       "array([[0],\n",
       "       [0],\n",
       "       [0],\n",
       "       [1],\n",
       "       [1],\n",
       "       [0],\n",
       "       [1],\n",
       "       [1],\n",
       "       [1],\n",
       "       [1],\n",
       "       [0],\n",
       "       [0],\n",
       "       [1],\n",
       "       [1],\n",
       "       [0],\n",
       "       [1],\n",
       "       [1],\n",
       "       [0],\n",
       "       [1],\n",
       "       [1],\n",
       "       [0],\n",
       "       [1],\n",
       "       [0],\n",
       "       [0],\n",
       "       [1],\n",
       "       [1],\n",
       "       [1],\n",
       "       [0],\n",
       "       [0],\n",
       "       [0],\n",
       "       [1],\n",
       "       [1],\n",
       "       [0],\n",
       "       [1],\n",
       "       [0],\n",
       "       [0],\n",
       "       [0],\n",
       "       [1],\n",
       "       [0],\n",
       "       [0],\n",
       "       [1],\n",
       "       [0],\n",
       "       [1],\n",
       "       [0],\n",
       "       [0],\n",
       "       [0],\n",
       "       [1],\n",
       "       [1],\n",
       "       [1],\n",
       "       [1],\n",
       "       [1],\n",
       "       [1],\n",
       "       [1],\n",
       "       [0],\n",
       "       [0],\n",
       "       [0],\n",
       "       [1],\n",
       "       [0],\n",
       "       [1],\n",
       "       [1],\n",
       "       [1],\n",
       "       [0],\n",
       "       [0],\n",
       "       [0],\n",
       "       [0],\n",
       "       [0],\n",
       "       [1],\n",
       "       [0],\n",
       "       [1],\n",
       "       [1],\n",
       "       [0],\n",
       "       [1],\n",
       "       [1],\n",
       "       [1],\n",
       "       [1],\n",
       "       [1],\n",
       "       [1],\n",
       "       [1],\n",
       "       [0],\n",
       "       [0],\n",
       "       [1],\n",
       "       [1],\n",
       "       [1],\n",
       "       [1],\n",
       "       [1],\n",
       "       [1],\n",
       "       [0],\n",
       "       [1],\n",
       "       [1],\n",
       "       [0],\n",
       "       [1],\n",
       "       [1],\n",
       "       [0],\n",
       "       [1],\n",
       "       [1],\n",
       "       [1],\n",
       "       [1],\n",
       "       [1],\n",
       "       [1],\n",
       "       [1]], dtype=int64)"
      ]
     },
     "execution_count": 266,
     "metadata": {},
     "output_type": "execute_result"
    }
   ],
   "source": [
    "results"
   ]
  },
  {
   "cell_type": "code",
   "execution_count": 267,
   "metadata": {},
   "outputs": [
    {
     "data": {
      "text/plain": [
       "array([[0.],\n",
       "       [0.],\n",
       "       [0.]])"
      ]
     },
     "execution_count": 267,
     "metadata": {},
     "output_type": "execute_result"
    }
   ],
   "source": [
    "y=results.reshape(rows,1)\n",
    "\n",
    "theta_init=np.zeros((cols+1,1)) # +1 is for bias\n",
    "theta_init"
   ]
  },
  {
   "cell_type": "code",
   "execution_count": 268,
   "metadata": {},
   "outputs": [
    {
     "data": {
      "text/plain": [
       "array([[0],\n",
       "       [0],\n",
       "       [0],\n",
       "       [1],\n",
       "       [1],\n",
       "       [0],\n",
       "       [1],\n",
       "       [1],\n",
       "       [1],\n",
       "       [1],\n",
       "       [0],\n",
       "       [0],\n",
       "       [1],\n",
       "       [1],\n",
       "       [0],\n",
       "       [1],\n",
       "       [1],\n",
       "       [0],\n",
       "       [1],\n",
       "       [1],\n",
       "       [0],\n",
       "       [1],\n",
       "       [0],\n",
       "       [0],\n",
       "       [1],\n",
       "       [1],\n",
       "       [1],\n",
       "       [0],\n",
       "       [0],\n",
       "       [0],\n",
       "       [1],\n",
       "       [1],\n",
       "       [0],\n",
       "       [1],\n",
       "       [0],\n",
       "       [0],\n",
       "       [0],\n",
       "       [1],\n",
       "       [0],\n",
       "       [0],\n",
       "       [1],\n",
       "       [0],\n",
       "       [1],\n",
       "       [0],\n",
       "       [0],\n",
       "       [0],\n",
       "       [1],\n",
       "       [1],\n",
       "       [1],\n",
       "       [1],\n",
       "       [1],\n",
       "       [1],\n",
       "       [1],\n",
       "       [0],\n",
       "       [0],\n",
       "       [0],\n",
       "       [1],\n",
       "       [0],\n",
       "       [1],\n",
       "       [1],\n",
       "       [1],\n",
       "       [0],\n",
       "       [0],\n",
       "       [0],\n",
       "       [0],\n",
       "       [0],\n",
       "       [1],\n",
       "       [0],\n",
       "       [1],\n",
       "       [1],\n",
       "       [0],\n",
       "       [1],\n",
       "       [1],\n",
       "       [1],\n",
       "       [1],\n",
       "       [1],\n",
       "       [1],\n",
       "       [1],\n",
       "       [0],\n",
       "       [0],\n",
       "       [1],\n",
       "       [1],\n",
       "       [1],\n",
       "       [1],\n",
       "       [1],\n",
       "       [1],\n",
       "       [0],\n",
       "       [1],\n",
       "       [1],\n",
       "       [0],\n",
       "       [1],\n",
       "       [1],\n",
       "       [0],\n",
       "       [1],\n",
       "       [1],\n",
       "       [1],\n",
       "       [1],\n",
       "       [1],\n",
       "       [1],\n",
       "       [1]], dtype=int64)"
      ]
     },
     "execution_count": 268,
     "metadata": {},
     "output_type": "execute_result"
    }
   ],
   "source": [
    "y"
   ]
  },
  {
   "cell_type": "code",
   "execution_count": 269,
   "metadata": {},
   "outputs": [
    {
     "name": "stdout",
     "output_type": "stream",
     "text": [
      "Cost at initialisation [0.69314718]\n",
      "Gradient [[-0.1       ]\n",
      " [-0.28122914]\n",
      " [-0.25098615]]\n"
     ]
    }
   ],
   "source": [
    "cost, gradient = compute_cost(theta_init, X, y)\n",
    "print('Cost at initialisation', cost)\n",
    "print('Gradient', gradient)"
   ]
  },
  {
   "cell_type": "markdown",
   "metadata": {},
   "source": [
    " "
   ]
  },
  {
   "cell_type": "markdown",
   "metadata": {},
   "source": [
    "### Task 7: Gradient Descent\n",
    "---"
   ]
  },
  {
   "cell_type": "markdown",
   "metadata": {},
   "source": [
    "Minimize the cost function $J(\\theta)$ by updating the below equation and repeat until convergence\n",
    "$\\theta_j := \\theta_j - \\alpha \\frac{\\partial J(\\theta)}{\\partial \\theta_j}$ (simultaneously update $\\theta_j$ for all $j$)"
   ]
  },
  {
   "cell_type": "code",
   "execution_count": 270,
   "metadata": {},
   "outputs": [],
   "source": [
    "def gradient_descent(x,y,theta, alpha, epochs):\n",
    "    costs=[]\n",
    "    for i in range (epochs):\n",
    "        cost, gradient=compute_cost(theta,x,y)\n",
    "        theta -= alpha*gradient\n",
    "        costs.append(cost) #storing the cost data at each iteration in the list\n",
    "    return theta, costs    "
   ]
  },
  {
   "cell_type": "code",
   "execution_count": 271,
   "metadata": {},
   "outputs": [],
   "source": [
    "theta, costs = gradient_descent(X, y, theta_init, 1, 200) #learning rate =1"
   ]
  },
  {
   "cell_type": "code",
   "execution_count": 272,
   "metadata": {},
   "outputs": [
    {
     "name": "stdout",
     "output_type": "stream",
     "text": [
      "Theta after running gradient descent: [[1.50850586]\n",
      " [3.5468762 ]\n",
      " [3.29383709]]\n",
      "Resulting cost [0.20489382]\n"
     ]
    }
   ],
   "source": [
    "print(\"Theta after running gradient descent:\", theta)\n",
    "print(\"Resulting cost\", costs[-1])"
   ]
  },
  {
   "cell_type": "markdown",
   "metadata": {},
   "source": [
    " "
   ]
  },
  {
   "cell_type": "markdown",
   "metadata": {},
   "source": [
    "### Task 8: Plotting the Convergence of $J(\\theta)$\n",
    "---"
   ]
  },
  {
   "cell_type": "markdown",
   "metadata": {},
   "source": [
    "Plot $J(\\theta)$ against the number of iterations of gradient descent:"
   ]
  },
  {
   "cell_type": "code",
   "execution_count": 273,
   "metadata": {},
   "outputs": [
    {
     "data": {
      "text/plain": [
       "[array([0.69314718]),\n",
       " array([0.55940324]),\n",
       " array([0.48058766]),\n",
       " array([0.43046342]),\n",
       " array([0.39605647]),\n",
       " array([0.37096693]),\n",
       " array([0.35181144]),\n",
       " array([0.33666258]),\n",
       " array([0.32434848]),\n",
       " array([0.31411699]),\n",
       " array([0.30546329]),\n",
       " array([0.29803573]),\n",
       " array([0.29158158]),\n",
       " array([0.28591434]),\n",
       " array([0.2808932]),\n",
       " array([0.27640977]),\n",
       " array([0.27237912]),\n",
       " array([0.26873374]),\n",
       " array([0.26541921]),\n",
       " array([0.26239115]),\n",
       " array([0.25961295]),\n",
       " array([0.25705417]),\n",
       " array([0.25468922]),\n",
       " array([0.25249645]),\n",
       " array([0.25045738]),\n",
       " array([0.24855618]),\n",
       " array([0.24677915]),\n",
       " array([0.2451144]),\n",
       " array([0.24355154]),\n",
       " array([0.24208146]),\n",
       " array([0.24069613]),\n",
       " array([0.23938843]),\n",
       " array([0.23815205]),\n",
       " array([0.23698135]),\n",
       " array([0.23587129]),\n",
       " array([0.23481732]),\n",
       " array([0.23381537]),\n",
       " array([0.23286175]),\n",
       " array([0.23195312]),\n",
       " array([0.23108643]),\n",
       " array([0.23025893]),\n",
       " array([0.22946809]),\n",
       " array([0.22871161]),\n",
       " array([0.22798736]),\n",
       " array([0.2272934]),\n",
       " array([0.22662796]),\n",
       " array([0.22598937]),\n",
       " array([0.22537611]),\n",
       " array([0.22478678]),\n",
       " array([0.22422006]),\n",
       " array([0.22367476]),\n",
       " array([0.22314973]),\n",
       " array([0.22264394]),\n",
       " array([0.2221564]),\n",
       " array([0.2216862]),\n",
       " array([0.2212325]),\n",
       " array([0.2207945]),\n",
       " array([0.22037144]),\n",
       " array([0.21996263]),\n",
       " array([0.21956741]),\n",
       " array([0.21918517]),\n",
       " array([0.21881532]),\n",
       " array([0.21845732]),\n",
       " array([0.21811065]),\n",
       " array([0.21777482]),\n",
       " array([0.21744938]),\n",
       " array([0.2171339]),\n",
       " array([0.21682795]),\n",
       " array([0.21653117]),\n",
       " array([0.21624317]),\n",
       " array([0.21596361]),\n",
       " array([0.21569216]),\n",
       " array([0.2154285]),\n",
       " array([0.21517234]),\n",
       " array([0.2149234]),\n",
       " array([0.21468139]),\n",
       " array([0.21444608]),\n",
       " array([0.21421721]),\n",
       " array([0.21399455]),\n",
       " array([0.21377788]),\n",
       " array([0.21356699]),\n",
       " array([0.21336167]),\n",
       " array([0.21316174]),\n",
       " array([0.212967]),\n",
       " array([0.21277728]),\n",
       " array([0.21259242]),\n",
       " array([0.21241225]),\n",
       " array([0.21223661]),\n",
       " array([0.21206536]),\n",
       " array([0.21189836]),\n",
       " array([0.21173547]),\n",
       " array([0.21157656]),\n",
       " array([0.21142151]),\n",
       " array([0.21127019]),\n",
       " array([0.21112248]),\n",
       " array([0.21097829]),\n",
       " array([0.2108375]),\n",
       " array([0.21070001]),\n",
       " array([0.21056572]),\n",
       " array([0.21043453]),\n",
       " array([0.21030636]),\n",
       " array([0.21018112]),\n",
       " array([0.21005872]),\n",
       " array([0.20993907]),\n",
       " array([0.20982211]),\n",
       " array([0.20970776]),\n",
       " array([0.20959594]),\n",
       " array([0.20948658]),\n",
       " array([0.20937961]),\n",
       " array([0.20927497]),\n",
       " array([0.2091726]),\n",
       " array([0.20907243]),\n",
       " array([0.2089744]),\n",
       " array([0.20887846]),\n",
       " array([0.20878456]),\n",
       " array([0.20869263]),\n",
       " array([0.20860262]),\n",
       " array([0.2085145]),\n",
       " array([0.2084282]),\n",
       " array([0.20834368]),\n",
       " array([0.2082609]),\n",
       " array([0.20817981]),\n",
       " array([0.20810036]),\n",
       " array([0.20802253]),\n",
       " array([0.20794626]),\n",
       " array([0.20787153]),\n",
       " array([0.20779828]),\n",
       " array([0.20772649]),\n",
       " array([0.20765611]),\n",
       " array([0.20758713]),\n",
       " array([0.20751949]),\n",
       " array([0.20745318]),\n",
       " array([0.20738815]),\n",
       " array([0.20732438]),\n",
       " array([0.20726184]),\n",
       " array([0.2072005]),\n",
       " array([0.20714033]),\n",
       " array([0.20708131]),\n",
       " array([0.20702341]),\n",
       " array([0.20696659]),\n",
       " array([0.20691085]),\n",
       " array([0.20685615]),\n",
       " array([0.20680247]),\n",
       " array([0.20674979]),\n",
       " array([0.20669808]),\n",
       " array([0.20664732]),\n",
       " array([0.2065975]),\n",
       " array([0.20654859]),\n",
       " array([0.20650058]),\n",
       " array([0.20645343]),\n",
       " array([0.20640714]),\n",
       " array([0.20636169]),\n",
       " array([0.20631705]),\n",
       " array([0.20627321]),\n",
       " array([0.20623016]),\n",
       " array([0.20618787]),\n",
       " array([0.20614633]),\n",
       " array([0.20610553]),\n",
       " array([0.20606545]),\n",
       " array([0.20602607]),\n",
       " array([0.20598737]),\n",
       " array([0.20594936]),\n",
       " array([0.20591201]),\n",
       " array([0.2058753]),\n",
       " array([0.20583923]),\n",
       " array([0.20580378]),\n",
       " array([0.20576894]),\n",
       " array([0.2057347]),\n",
       " array([0.20570104]),\n",
       " array([0.20566796]),\n",
       " array([0.20563543]),\n",
       " array([0.20560346]),\n",
       " array([0.20557203]),\n",
       " array([0.20554113]),\n",
       " array([0.20551074]),\n",
       " array([0.20548087]),\n",
       " array([0.20545149]),\n",
       " array([0.20542261]),\n",
       " array([0.2053942]),\n",
       " array([0.20536626]),\n",
       " array([0.20533879]),\n",
       " array([0.20531177]),\n",
       " array([0.20528519]),\n",
       " array([0.20525905]),\n",
       " array([0.20523333]),\n",
       " array([0.20520804]),\n",
       " array([0.20518315]),\n",
       " array([0.20515867]),\n",
       " array([0.20513459]),\n",
       " array([0.20511089]),\n",
       " array([0.20508758]),\n",
       " array([0.20506464]),\n",
       " array([0.20504207]),\n",
       " array([0.20501986]),\n",
       " array([0.204998]),\n",
       " array([0.2049765]),\n",
       " array([0.20495533]),\n",
       " array([0.2049345]),\n",
       " array([0.204914]),\n",
       " array([0.20489382])]"
      ]
     },
     "execution_count": 273,
     "metadata": {},
     "output_type": "execute_result"
    }
   ],
   "source": [
    "costs"
   ]
  },
  {
   "cell_type": "code",
   "execution_count": 274,
   "metadata": {},
   "outputs": [
    {
     "data": {
      "text/plain": [
       "numpy.ndarray"
      ]
     },
     "execution_count": 274,
     "metadata": {},
     "output_type": "execute_result"
    }
   ],
   "source": [
    "type(cost) #so could be used for calc"
   ]
  },
  {
   "cell_type": "code",
   "execution_count": 275,
   "metadata": {},
   "outputs": [
    {
     "data": {
      "text/plain": [
       "(1,)"
      ]
     },
     "execution_count": 275,
     "metadata": {},
     "output_type": "execute_result"
    }
   ],
   "source": [
    "cost.shape"
   ]
  },
  {
   "cell_type": "code",
   "execution_count": 276,
   "metadata": {},
   "outputs": [
    {
     "data": {
      "text/plain": [
       "Text(0.5, 1.0, 'Value of cost over iterations')"
      ]
     },
     "execution_count": 276,
     "metadata": {},
     "output_type": "execute_result"
    },
    {
     "data": {
      "image/png": "[encoded data removed]",
      "text/plain": [
       "<Figure size 864x576 with 1 Axes>"
      ]
     },
     "metadata": {
      "needs_background": "light"
     },
     "output_type": "display_data"
    }
   ],
   "source": [
    "plt.plot(costs) #you can even plot a list - numpy array directly...without any x\n",
    "plt.xlabel(\"Iterations\")\n",
    "plt.ylabel(\"$J(\\Theta)$\")\n",
    "plt.title(\"Value of cost over iterations\")"
   ]
  },
  {
   "cell_type": "markdown",
   "metadata": {},
   "source": [
    "cost as saturated after 200 epochs to 0.20"
   ]
  },
  {
   "cell_type": "markdown",
   "metadata": {},
   "source": [
    " "
   ]
  },
  {
   "cell_type": "markdown",
   "metadata": {},
   "source": [
    "### Task 9: Plotting the decision boundary\n",
    "---"
   ]
  },
  {
   "cell_type": "markdown",
   "metadata": {},
   "source": [
    "$h_\\theta(x) = \\sigma(z)$, where $\\sigma$ is the logistic sigmoid function and $z = \\theta^Tx$\n",
    "\n",
    "When $h_\\theta(x) \\geq 0.5$ the model predicts class \"1\":\n",
    "\n",
    "$\\implies \\sigma(\\theta^Tx) \\geq 0.5$\n",
    "\n",
    "$\\implies \\theta^Tx \\geq 0$ predict class \"1\" \n",
    "\n",
    "Hence, $\\theta_1 + \\theta_2x_2 + \\theta_3x_3 = 0$ is the equation for the decision boundary, giving us \n",
    "\n",
    "$ x_3 = \\frac{-(\\theta_1+\\theta_2x_2)}{\\theta_3}$"
   ]
  },
  {
   "cell_type": "code",
   "execution_count": 277,
   "metadata": {},
   "outputs": [
    {
     "data": {
      "text/plain": [
       "array([[1.50850586],\n",
       "       [3.5468762 ],\n",
       "       [3.29383709]])"
      ]
     },
     "execution_count": 277,
     "metadata": {},
     "output_type": "execute_result"
    }
   ],
   "source": [
    "theta #the final updated theta"
   ]
  },
  {
   "cell_type": "code",
   "execution_count": 32,
   "metadata": {},
   "outputs": [
    {
     "data": {
      "text/plain": [
       "array([[ 1.        , -1.60224763,  0.63834112],\n",
       "       [ 1.        , -1.82625564, -1.2075414 ],\n",
       "       [ 1.        , -1.53903969,  0.3612943 ],\n",
       "       [ 1.        , -0.28210129,  1.0863683 ],\n",
       "       [ 1.        ,  0.69152826,  0.49337794],\n",
       "       [ 1.        , -1.06199728, -0.5357394 ],\n",
       "       [ 1.        , -0.23437234,  1.63818413],\n",
       "       [ 1.        ,  0.4845113 , -1.06373024],\n",
       "       [ 1.        ,  0.53998666,  1.14651105],\n",
       "       [ 1.        ,  0.97044832, -1.22709853],\n",
       "       [ 1.        ,  1.56075461, -1.51418452],\n",
       "       [ 1.        ,  0.48393864, -1.92641626],\n",
       "       [ 1.        ,  0.86065022,  0.55490359],\n",
       "       [ 1.        ,  0.1921582 ,  1.70347834],\n",
       "       [ 1.        , -1.34839922,  0.53082781],\n",
       "       [ 1.        , -0.60293429,  1.24314792],\n",
       "       [ 1.        ,  0.17694982, -0.72913975],\n",
       "       [ 1.        ,  0.11893077, -1.05699346],\n",
       "       [ 1.        ,  0.25914553,  1.44433023],\n",
       "       [ 1.        ,  0.58543944, -1.00845873],\n",
       "       [ 1.        ,  0.0892403 , -1.26468472],\n",
       "       [ 1.        ,  1.2413042 , -0.02285779],\n",
       "       [ 1.        , -0.78042096, -0.93923898],\n",
       "       [ 1.        , -1.62350714, -1.19053019],\n",
       "       [ 1.        ,  0.63426559,  0.14875155],\n",
       "       [ 1.        , -0.17423248,  0.20186768],\n",
       "       [ 1.        ,  0.75131151, -1.15742514],\n",
       "       [ 1.        ,  1.41886056, -1.4830648 ],\n",
       "       [ 1.        , -0.19700066, -0.86350486],\n",
       "       [ 1.        , -1.38726847, -0.06632457],\n",
       "       [ 1.        , -0.22029098,  0.35619356],\n",
       "       [ 1.        ,  1.02063763, -0.49595429],\n",
       "       [ 1.        , -0.69916396, -0.16735724],\n",
       "       [ 1.        , -0.70239602,  0.1736574 ],\n",
       "       [ 1.        , -1.31231814,  0.26748769],\n",
       "       [ 1.        , -0.56863523, -0.7576197 ],\n",
       "       [ 1.        , -1.63882482,  1.76571557],\n",
       "       [ 1.        , -0.07578684,  0.7942862 ],\n",
       "       [ 1.        ,  0.47234786, -1.33310268],\n",
       "       [ 1.        , -1.62497511,  0.48760951],\n",
       "       [ 1.        ,  0.94305124, -0.53618968],\n",
       "       [ 1.        , -0.72810195, -1.0473818 ],\n",
       "       [ 1.        ,  1.48750373, -0.03532122],\n",
       "       [ 1.        ,  0.86383711, -1.38476189],\n",
       "       [ 1.        , -0.75392586, -1.10328278],\n",
       "       [ 1.        , -0.17672918, -0.76588887],\n",
       "       [ 1.        ,  0.59650575,  0.22911224],\n",
       "       [ 1.        ,  1.65941042,  1.10904426],\n",
       "       [ 1.        , -0.1844568 ,  1.65210535],\n",
       "       [ 1.        ,  1.33883167,  1.2155077 ],\n",
       "       [ 1.        ,  0.73863826,  0.42949041],\n",
       "       [ 1.        ,  1.73693492, -0.2824808 ],\n",
       "       [ 1.        ,  1.28623744, -1.23482132],\n",
       "       [ 1.        , -1.60736862, -0.31507682],\n",
       "       [ 1.        , -0.79324552, -0.88792768],\n",
       "       [ 1.        , -0.82939191, -0.34684551],\n",
       "       [ 1.        ,  1.65290418,  0.14275969],\n",
       "       [ 1.        , -1.70794943,  1.5888117 ],\n",
       "       [ 1.        ,  0.44442728,  0.19484284],\n",
       "       [ 1.        ,  0.31776703,  0.66153625],\n",
       "       [ 1.        ,  0.50366692,  1.05669679],\n",
       "       [ 1.        , -1.56803122, -1.03849986],\n",
       "       [ 1.        , -0.48502704, -1.45814261],\n",
       "       [ 1.        , -1.83802631, -0.89937003],\n",
       "       [ 1.        , -1.08343328,  0.012336  ],\n",
       "       [ 1.        ,  0.04734442, -1.35913441],\n",
       "       [ 1.        , -1.30092096,  1.69355351],\n",
       "       [ 1.        , -0.85594644, -0.77550399],\n",
       "       [ 1.        ,  0.75592876,  1.40046365],\n",
       "       [ 1.        ,  0.05694243, -0.28289384],\n",
       "       [ 1.        , -1.70042734, -1.23933351],\n",
       "       [ 1.        , -0.08289756,  0.63871945],\n",
       "       [ 1.        ,  0.34617678,  1.62283321],\n",
       "       [ 1.        , -0.26788246,  0.37172177],\n",
       "       [ 1.        , -0.35139858,  0.52118118],\n",
       "       [ 1.        ,  1.76561835,  0.33247025],\n",
       "       [ 1.        , -0.94934675,  1.20358601],\n",
       "       [ 1.        , -0.78437891,  0.51855329],\n",
       "       [ 1.        , -0.26800277, -1.28253412],\n",
       "       [ 1.        ,  0.8564979 , -1.27109695],\n",
       "       [ 1.        ,  1.20190067,  0.19371884],\n",
       "       [ 1.        ,  1.50770647, -1.11022692],\n",
       "       [ 1.        ,  0.08651467,  0.01986816],\n",
       "       [ 1.        , -0.43415649, -0.36278249],\n",
       "       [ 1.        ,  0.76043181,  1.33794685],\n",
       "       [ 1.        ,  0.14587539,  1.04773882],\n",
       "       [ 1.        , -1.21735452,  0.68269533],\n",
       "       [ 1.        ,  0.50790698,  1.30897879],\n",
       "       [ 1.        ,  0.67100669,  1.64553968],\n",
       "       [ 1.        , -0.68676645, -0.29489455],\n",
       "       [ 1.        ,  1.46947562,  0.59152637],\n",
       "       [ 1.        ,  1.28116721,  1.15128248],\n",
       "       [ 1.        , -0.52488391, -1.65775547],\n",
       "       [ 1.        ,  0.45703019,  1.00722043],\n",
       "       [ 1.        ,  1.25003483, -1.12840052],\n",
       "       [ 1.        ,  0.92170742, -0.96495748],\n",
       "       [ 1.        , -1.2077347 ,  1.12938152],\n",
       "       [ 1.        ,  1.73912916,  0.13809961],\n",
       "       [ 1.        , -0.53222578, -0.06977207],\n",
       "       [ 1.        ,  0.4716578 ,  1.26058811]])"
      ]
     },
     "execution_count": 32,
     "metadata": {},
     "output_type": "execute_result"
    }
   ],
   "source": [
    "X #normalised scores"
   ]
  },
  {
   "cell_type": "code",
   "execution_count": 33,
   "metadata": {},
   "outputs": [
    {
     "data": {
      "image/png": "[encoded data removed]",
      "text/plain": [
       "<Figure size 864x576 with 1 Axes>"
      ]
     },
     "metadata": {
      "needs_background": "light"
     },
     "output_type": "display_data"
    }
   ],
   "source": [
    "ax=sns.scatterplot(x=X[passed[:,0],1], #x for test1 and y for test2\n",
    "                  y=X[passed[:,0],2], \n",
    "                  s=60,\n",
    "                  color='green') \n",
    "ax=sns.scatterplot(x=X[failed[:,0],1],\n",
    "                   y=X[failed[:,0],2], s=85, marker=\"^\") \n",
    "ax.set(xlabel='Test 1 scores', ylabel='Test 2 scores')\n",
    "ax.legend(['Passed','Failed'])\n",
    "#same as prior\n",
    "\n",
    "x_boundary=np.array([np.min(X[:,1]), np.max(X[:,1])]) #taken just 2 points and plotted the dataset\n",
    "y_boundary=-(theta[0]+theta[1]*x_boundary)/theta[2] #found the corresponding y with the help of model-linear equation\n",
    "sns.lineplot(x=x_boundary,y=y_boundary, color=\"blue\")\n",
    "\n",
    "plt.show()"
   ]
  },
  {
   "cell_type": "code",
   "execution_count": 34,
   "metadata": {},
   "outputs": [
    {
     "data": {
      "text/plain": [
       "array([-1.83802631,  1.76561835])"
      ]
     },
     "execution_count": 34,
     "metadata": {},
     "output_type": "execute_result"
    }
   ],
   "source": [
    "x_boundary"
   ]
  },
  {
   "cell_type": "code",
   "execution_count": 35,
   "metadata": {},
   "outputs": [
    {
     "data": {
      "text/plain": [
       "array([ 1.52124886, -2.35923495])"
      ]
     },
     "execution_count": 35,
     "metadata": {},
     "output_type": "execute_result"
    }
   ],
   "source": [
    "y_boundary"
   ]
  },
  {
   "cell_type": "markdown",
   "metadata": {},
   "source": [
    " "
   ]
  },
  {
   "cell_type": "markdown",
   "metadata": {},
   "source": [
    "### Task 10: Predictions using the optimized $\\theta$ values\n",
    "---"
   ]
  },
  {
   "cell_type": "markdown",
   "metadata": {},
   "source": [
    "$h_\\theta(x) = x\\theta$"
   ]
  },
  {
   "cell_type": "code",
   "execution_count": 36,
   "metadata": {},
   "outputs": [],
   "source": [
    "def predict(theta,x):\n",
    "    result = x.dot(theta) #x is n*3 and theta 3*1\n",
    "    return result>0"
   ]
  },
  {
   "cell_type": "code",
   "execution_count": 37,
   "metadata": {},
   "outputs": [
    {
     "data": {
      "text/plain": [
       "array([[False],\n",
       "       [False],\n",
       "       [False],\n",
       "       [ True],\n",
       "       [ True],\n",
       "       [False],\n",
       "       [ True],\n",
       "       [False],\n",
       "       [ True],\n",
       "       [ True],\n",
       "       [ True],\n",
       "       [False],\n",
       "       [ True],\n",
       "       [ True],\n",
       "       [False],\n",
       "       [ True],\n",
       "       [False],\n",
       "       [False],\n",
       "       [ True],\n",
       "       [ True],\n",
       "       [False],\n",
       "       [ True],\n",
       "       [False],\n",
       "       [False],\n",
       "       [ True],\n",
       "       [ True],\n",
       "       [ True],\n",
       "       [ True],\n",
       "       [False],\n",
       "       [False],\n",
       "       [ True],\n",
       "       [ True],\n",
       "       [False],\n",
       "       [False],\n",
       "       [False],\n",
       "       [False],\n",
       "       [ True],\n",
       "       [ True],\n",
       "       [False],\n",
       "       [False],\n",
       "       [ True],\n",
       "       [False],\n",
       "       [ True],\n",
       "       [ True],\n",
       "       [False],\n",
       "       [False],\n",
       "       [ True],\n",
       "       [ True],\n",
       "       [ True],\n",
       "       [ True],\n",
       "       [ True],\n",
       "       [ True],\n",
       "       [ True],\n",
       "       [False],\n",
       "       [False],\n",
       "       [False],\n",
       "       [ True],\n",
       "       [ True],\n",
       "       [ True],\n",
       "       [ True],\n",
       "       [ True],\n",
       "       [False],\n",
       "       [False],\n",
       "       [False],\n",
       "       [False],\n",
       "       [False],\n",
       "       [ True],\n",
       "       [False],\n",
       "       [ True],\n",
       "       [ True],\n",
       "       [False],\n",
       "       [ True],\n",
       "       [ True],\n",
       "       [ True],\n",
       "       [ True],\n",
       "       [ True],\n",
       "       [ True],\n",
       "       [ True],\n",
       "       [False],\n",
       "       [ True],\n",
       "       [ True],\n",
       "       [ True],\n",
       "       [ True],\n",
       "       [False],\n",
       "       [ True],\n",
       "       [ True],\n",
       "       [False],\n",
       "       [ True],\n",
       "       [ True],\n",
       "       [False],\n",
       "       [ True],\n",
       "       [ True],\n",
       "       [False],\n",
       "       [ True],\n",
       "       [ True],\n",
       "       [ True],\n",
       "       [ True],\n",
       "       [ True],\n",
       "       [False],\n",
       "       [ True]])"
      ]
     },
     "execution_count": 37,
     "metadata": {},
     "output_type": "execute_result"
    }
   ],
   "source": [
    "#Training accuracy\n",
    "p=predict(theta,X)\n",
    "p"
   ]
  },
  {
   "cell_type": "code",
   "execution_count": 38,
   "metadata": {},
   "outputs": [
    {
     "data": {
      "text/plain": [
       "(100, 1)"
      ]
     },
     "execution_count": 38,
     "metadata": {},
     "output_type": "execute_result"
    }
   ],
   "source": [
    "p.shape"
   ]
  },
  {
   "cell_type": "code",
   "execution_count": 39,
   "metadata": {},
   "outputs": [
    {
     "data": {
      "text/plain": [
       "array([[ True],\n",
       "       [ True],\n",
       "       [ True],\n",
       "       [ True],\n",
       "       [ True],\n",
       "       [ True],\n",
       "       [ True],\n",
       "       [False],\n",
       "       [ True],\n",
       "       [ True],\n",
       "       [False],\n",
       "       [ True],\n",
       "       [ True],\n",
       "       [ True],\n",
       "       [ True],\n",
       "       [ True],\n",
       "       [False],\n",
       "       [ True],\n",
       "       [ True],\n",
       "       [ True],\n",
       "       [ True],\n",
       "       [ True],\n",
       "       [ True],\n",
       "       [ True],\n",
       "       [ True],\n",
       "       [ True],\n",
       "       [ True],\n",
       "       [False],\n",
       "       [ True],\n",
       "       [ True],\n",
       "       [ True],\n",
       "       [ True],\n",
       "       [ True],\n",
       "       [False],\n",
       "       [ True],\n",
       "       [ True],\n",
       "       [False],\n",
       "       [ True],\n",
       "       [ True],\n",
       "       [ True],\n",
       "       [ True],\n",
       "       [ True],\n",
       "       [ True],\n",
       "       [False],\n",
       "       [ True],\n",
       "       [ True],\n",
       "       [ True],\n",
       "       [ True],\n",
       "       [ True],\n",
       "       [ True],\n",
       "       [ True],\n",
       "       [ True],\n",
       "       [ True],\n",
       "       [ True],\n",
       "       [ True],\n",
       "       [ True],\n",
       "       [ True],\n",
       "       [False],\n",
       "       [ True],\n",
       "       [ True],\n",
       "       [ True],\n",
       "       [ True],\n",
       "       [ True],\n",
       "       [ True],\n",
       "       [ True],\n",
       "       [ True],\n",
       "       [ True],\n",
       "       [ True],\n",
       "       [ True],\n",
       "       [ True],\n",
       "       [ True],\n",
       "       [ True],\n",
       "       [ True],\n",
       "       [ True],\n",
       "       [ True],\n",
       "       [ True],\n",
       "       [ True],\n",
       "       [ True],\n",
       "       [ True],\n",
       "       [False],\n",
       "       [ True],\n",
       "       [ True],\n",
       "       [ True],\n",
       "       [False],\n",
       "       [ True],\n",
       "       [ True],\n",
       "       [ True],\n",
       "       [ True],\n",
       "       [ True],\n",
       "       [ True],\n",
       "       [ True],\n",
       "       [ True],\n",
       "       [ True],\n",
       "       [ True],\n",
       "       [ True],\n",
       "       [ True],\n",
       "       [ True],\n",
       "       [ True],\n",
       "       [False],\n",
       "       [ True]])"
      ]
     },
     "execution_count": 39,
     "metadata": {},
     "output_type": "execute_result"
    }
   ],
   "source": [
    "p==y"
   ]
  },
  {
   "cell_type": "code",
   "execution_count": 40,
   "metadata": {},
   "outputs": [
    {
     "data": {
      "text/plain": [
       "array([89])"
      ]
     },
     "execution_count": 40,
     "metadata": {},
     "output_type": "execute_result"
    }
   ],
   "source": [
    "sum(p==y)"
   ]
  },
  {
   "cell_type": "code",
   "execution_count": 41,
   "metadata": {},
   "outputs": [
    {
     "name": "stdout",
     "output_type": "stream",
     "text": [
      "Training accuracy is 89 %\n"
     ]
    }
   ],
   "source": [
    "print(\"Training accuracy is\",sum(p==y)[0], \"%\")"
   ]
  },
  {
   "cell_type": "code",
   "execution_count": 42,
   "metadata": {},
   "outputs": [],
   "source": [
    "test=np.array([80,60])\n",
    "\n",
    "#Standarasing the data\n",
    "test=(test-mean_scores)/std_scores #normalised as in general case\n",
    "test=np.append(np.ones(1), test) #as we have appended one - for letting bias to multiply as well"
   ]
  },
  {
   "cell_type": "code",
   "execution_count": 43,
   "metadata": {},
   "outputs": [
    {
     "data": {
      "text/plain": [
       "array([0.95391361])"
      ]
     },
     "execution_count": 43,
     "metadata": {},
     "output_type": "execute_result"
    }
   ],
   "source": [
    "probability=sigmoid(test.dot(theta))\n",
    "probability"
   ]
  },
  {
   "cell_type": "code",
   "execution_count": 44,
   "metadata": {},
   "outputs": [
    {
     "name": "stdout",
     "output_type": "stream",
     "text": [
      "The probability for that student to pass is: 0.95\n"
     ]
    }
   ],
   "source": [
    "print(\"The probability for that student to pass is:\", np.round(probability[0],2))"
   ]
  }
 ],
 "metadata": {
  "kernelspec": {
   "display_name": "Python 3",
   "language": "python",
   "name": "python3"
  },
  "language_info": {
   "codemirror_mode": {
    "name": "ipython",
    "version": 3
   },
   "file_extension": ".py",
   "mimetype": "text/x-python",
   "name": "python",
   "nbconvert_exporter": "python",
   "pygments_lexer": "ipython3",
   "version": "3.7.6"
  }
 },
 "nbformat": 4,
 "nbformat_minor": 2
}
